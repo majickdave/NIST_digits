{
 "cells": [
  {
   "cell_type": "code",
   "execution_count": 1,
   "metadata": {
    "collapsed": true
   },
   "outputs": [],
   "source": [
    "%matplotlib inline"
   ]
  },
  {
   "cell_type": "markdown",
   "metadata": {},
   "source": [
    "# Classification of Handwritten Digits\n",
    "\n",
    "## Data Mining Team Names:\n",
    "David Samuel\n",
    "\n",
    "This notebook will explore a number of different models to classify the MNIST Handwritten Dataset.  You can get started with the dataset and benchmarks at https://www.kaggle.com/c/digit-recognizer.  \n",
    "\n",
    "We will use the CRISP-DM framework seen below to iterate the data processing and modeling.  You can get a breif overview here: https://en.wikipedia.org/wiki/Cross_Industry_Standard_Process_for_Data_Mining"
   ]
  },
  {
   "cell_type": "markdown",
   "metadata": {},
   "source": [
    "<a title=\"By Kenneth Jensen (Own work) [CC BY-SA 3.0 (http://creativecommons.org/licenses/by-sa/3.0)], via Wikimedia Commons\" href=\"https://commons.wikimedia.org/wiki/File%3ACRISP-DM_Process_Diagram.png\"><img width=\"384\" alt=\"CRISP-DM Process Diagram\" src=\"https://upload.wikimedia.org/wikipedia/commons/thumb/b/b9/CRISP-DM_Process_Diagram.png/512px-CRISP-DM_Process_Diagram.png\"/></a>"
   ]
  },
  {
   "cell_type": "markdown",
   "metadata": {},
   "source": [
    "<a id=\"top\"></a>\n",
    "## Table of Contents\n",
    "________________________________________________________________________________________________________\n",
    "\n",
    "### I.  Business Understanding\n",
    "* <a href=\"#business_understanding\">Business Understanding</a>\n",
    "\n",
    "### II. Data Understanding \n",
    "* <a href=\"#data_understanding\">Data Understanding</a>\n",
    "\n",
    "### III. Data Preparation\n",
    "* <a href=\"#data_preparation\">Data Preparation</a>\n",
    "* <a href=\"#final_dataset\">Final Dataset Description</a>\n",
    "\n",
    "### IV. Modeling and Evaluation\n",
    "* <a href=\"#modeling_and_evaluation\">Modeling and Evaluation</a>\n",
    "\n",
    "#### Using PCA on Logistic Regression and SVM Models\n",
    "* <a href=\"#using_pca\">Using PCA on Logistic Regression and SVM Models</a>\n",
    "\n",
    "#### Supervised Learning: Support Vector Machine (SVM)\n",
    "* <a href=\"#support_vector_machine\">Supervised Learning: Support Vector Machine (SVM)</a>\n",
    "\n",
    "### V.  The Big Picture: Deployment\n",
    "* <a href=\"#deployment\">Deployment</a>\n",
    "________________________________________________________________________________________________________"
   ]
  },
  {
   "cell_type": "markdown",
   "metadata": {},
   "source": [
    "<a id=\"business_understanding\"></a>\n",
    "<a href=\"#top\">Back to Top</a>\n",
    "# I.  Business Understanding\n",
    "\n",
    "This dataset was released and licensed for use in academia, and a purely knowledge based Kaggle competition which started in July, 2012, and will conclude at New Years Eve December, 2016.\n",
    "\n",
    "The data was taken from the MNIST (\"Modified National Institute of Standards and Technology\").  This data has been extensively studied, which makes it an ideal candidate for learning machine learning techniques, repeatablility of testing, and new learning methodology.\n",
    "\n",
    "The goal of the competition is to correctly classify the handwritten digits 0 through 9.  It is our job to process the image data, train a model using the training data, predict the labels of the test set, and report the accuracy.  We will iterate on this methodology through the use of various machine learning algorithms, and data transformations. "
   ]
  },
  {
   "cell_type": "markdown",
   "metadata": {},
   "source": [
    "<a id='data_understanding'></a>\n",
    "<a href=\"#top\">Back to Top</a>\n",
    "# II.  Data Understanding\n",
    "\n",
    "\n",
    "This dataset is comprised of a training set of 42,000 labeled images, and 28,000 test images.  These images are each unique, and each contains 784 pixels, 0 through 255 representing a greyscale pixel.  The training set is labeled with the correct digit in the set of (0 through 9), while the testing set is unlabeled.  "
   ]
  },
  {
   "cell_type": "code",
   "execution_count": 2,
   "metadata": {},
   "outputs": [
    {
     "name": "stdout",
     "output_type": "stream",
     "text": [
      "Importing...\n",
      "Done!...\n"
     ]
    }
   ],
   "source": [
    "# http://pandas.pydata.org/pandas-docs/stable/generated/pandas.read_csv.html#pandas.read_csv\n",
    "# https://docs.scipy.org/doc/numpy/reference/generated/numpy.ndarray.html\n",
    "\n",
    "import pandas as pd   # import pandas library as a variable, \"pd\"\n",
    "import numpy as np    # import numpy library as \"np\"\n",
    "\n",
    "print(\"Importing...\")\n",
    "# create data frame of training and testing sets\n",
    "\n",
    "test = pd.read_csv(\"https://www.dropbox.com/s/rhxn9alnnexqa75/test.csv?dl=1\")              #  Sets testing object as a DataFrame\n",
    "dataset = pd.read_csv(\"data/train.csv\")             #  Set training object as a DataFrame\n",
    "target = dataset[[0]].values.ravel()                #  Set target as the label values flattened to an ndarray(N-dimensional Array)                                            \n",
    "train = dataset.iloc[:,1:].values                   #  Set train as the pixel values\n",
    "\n",
    "print(\"Done!...\")"
   ]
  },
  {
   "cell_type": "markdown",
   "metadata": {},
   "source": [
    "## Here's a sample of the digits from Kaggle:\n",
    "<img src=\"https://kaggle2.blob.core.windows.net/competitions/kaggle/3004/logos/front_page.png\" alt=\"Drawing\" style=\"width: 400px;\"/>"
   ]
  },
  {
   "cell_type": "markdown",
   "metadata": {},
   "source": [
    "<a id='class_distribution'></a>\n",
    "<a href=\"#top\">Back to Top</a>\n",
    "### Class Distribution \n",
    "The below graph shows the frequency of digits that occured in the data set. "
   ]
  },
  {
   "cell_type": "code",
   "execution_count": 4,
   "metadata": {},
   "outputs": [
    {
     "name": "stdout",
     "output_type": "stream",
     "text": [
      "Size of the training dataset: 42000 Rows and 785 Columns\n",
      "Size of the testing dataset: 28000 Rows and 784 Columns\n",
      "Number of unique classes: 10\n",
      "The Classes: [0, 1, 2, 3, 4, 5, 6, 7, 8, 9]\n"
     ]
    },
    {
     "data": {
      "image/png": "[encoded data removed]",
      "text/plain": [
       "<matplotlib.figure.Figure at 0x110181e10>"
      ]
     },
     "metadata": {},
     "output_type": "display_data"
    }
   ],
   "source": [
    "# http://seaborn.pydata.org/generated/seaborn.set.html?highlight=seaborn.set#seaborn.set\n",
    "\n",
    "# seaborn.set(context='notebook', style='darkgrid', palette='deep', font='sans-serif', font_scale=1, color_codes=False, rc=None)\n",
    "import matplotlib.pyplot as plt\n",
    "import seaborn as sns       # import the seaborn library for a quick distribution plot\n",
    "sns.set(color_codes=True)       # Reset color_codes to default\n",
    "\n",
    "print('Size of the training dataset:', dataset.shape[0], 'Rows and', dataset.shape[1], 'Columns')  #shape[0,1] = row, col\n",
    "print('Size of the testing dataset:', test.shape[0], 'Rows and', test.shape[1], 'Columns')\n",
    "print('Number of unique classes:', len(dataset.label.unique()))\n",
    "labels = sorted(dataset.label.unique())                              #sort unique labels\n",
    "print('The Classes:', labels)\n",
    "sns.set(style='darkgrid', palette='pastel')       # Set grid style and color palette of seaborn object\n",
    "c = pd.Series(target)                             # Create a series of the target labels\n",
    "c = c.value_counts()                              # Set value_counts for the classes\n",
    "sns = c.plot(title=\"Digit Frequency\", kind='barh')  # set seaborn object equal to Series.plot object and it will plot automatically\n",
    "plt.show()                                        # Show plot cleanly\n"
   ]
  },
  {
   "cell_type": "markdown",
   "metadata": {},
   "source": [
    "\n",
    "### The plot above shows the distribution of the labeled classes in the training Set\n",
    "We can see from the graph above that the most common digit is 1 and occurs just under 5000 times. this will be taken into account in later sections."
   ]
  },
  {
   "cell_type": "markdown",
   "metadata": {},
   "source": [
    "<a id='data_preparation'></a>\n",
    "<a href=\"#top\">Back to Top</a>\n",
    "# III. Data Preparation"
   ]
  },
  {
   "cell_type": "markdown",
   "metadata": {},
   "source": [
    "## Split the data into training and testing and show the distribution of the split\n",
    "Now the data set must be split in order to help determine how the distribution would correlate to the cross validation test. the grap below shows the output.\n",
    "\n",
    "We will use train_test_split to partition the data 50/50 and stratified kfolds for cross validation as this was observed as the most common methodology for this competition."
   ]
  },
  {
   "cell_type": "code",
   "execution_count": 5,
   "metadata": {
    "collapsed": true
   },
   "outputs": [],
   "source": [
    "# import pandas as pd   # import pandas library as a variable, \"pd\"\n",
    "# import numpy as np    # import numpy library as \"np\"\n",
    "\n",
    "# print(\"Importing...\")\n",
    "# # create data frame of training and testing sets\n",
    "\n",
    "# test = pd.read_csv(\"data/test.csv\")              #  Sets testing object as a DataFrame\n",
    "# dataset = pd.read_csv(\"data/train.csv\")             #  Set training object as a DataFrame\n",
    "# target = dataset[[0]].values.ravel()                #  Set target as the label values flattened to an ndarray(N-dimensional Array)                                            \n",
    "# train = dataset.iloc[:,1:].values                   #  Set train as the pixel values\n",
    "\n",
    "# print(\"Done!...\")\n"
   ]
  },
  {
   "cell_type": "code",
   "execution_count": 6,
   "metadata": {
    "collapsed": true
   },
   "outputs": [],
   "source": [
    "# import matplotlib.pyplot as plt\n",
    "# import matplotlib.cm as cm\n",
    "\n",
    "# # convert to array, specify data type, and reshape\n",
    "# targets = target.astype(np.uint8)\n",
    "# trains = np.array(train).reshape((-1, 1, 28, 28)).astype(np.uint8)\n",
    "# tests = np.array(test).reshape((-1, 1, 28, 28)).astype(np.uint8)\n",
    "\n",
    "# plt.imshow(trains[1729][0], cmap=cm.binary) # draw the picture\n",
    "\n",
    "# plt.show()"
   ]
  },
  {
   "cell_type": "markdown",
   "metadata": {},
   "source": [
    "# Below we plot the various number plots in order to show what the images actually look like. \n"
   ]
  },
  {
   "cell_type": "code",
   "execution_count": 7,
   "metadata": {
    "collapsed": true
   },
   "outputs": [],
   "source": [
    "%matplotlib inline\n",
    "# The function below plots the images with their labels above\n",
    "# Code sampled from ../03.%20Dimension%20Reduction.ipynb\n",
    "\n",
    "import matplotlib.pyplot as plt    #import pylab library which is suited for plotting images\n",
    "\n",
    "# Set X and y to plot\n",
    "X = train\n",
    "y = target\n",
    "names = np.sort(dataset.label.unique())     # Created sorted labels array to match titles with images\n",
    "done = set()                                # Create and empty set of explored indices\n",
    "\n",
    "#  Create function to plot single digit of interest\n",
    "def plot_now(images, h=28, w=28, cmap=plt.cm.binary, indx=True, r=0):    # Set default constructor values  \n",
    "    plt.imshow(images.reshape((h, w)), cmap=cmap)                        # Reshape images and set cmap color\n",
    "    if indx==True:\n",
    "        plt.xlabel('index: '+str(r), size=12)                  # Option to show index\n",
    "        plt.title(names[y][r], size=16)                                      # Sets title from sorted names [y] and index [r] \n",
    "    plt.xticks(())                              # Eliminate tick marks\n",
    "    plt.yticks(())\n",
    "\n",
    "#  Create function to plot a gallery of interest\n",
    "def plot_gallery(images, titles,  h=28, w=28, n_row=3, x=1.7, y=2.3, n_col=6, \n",
    "                 cmap=plt.cm.binary, random=True, indx=True, r=0, size=16):  \n",
    "    # Optional row and size parameters will allow us to reuse code, set random to false and r to an index of your choice\n",
    "    # to see a continous gallery\n",
    "\n",
    "    plt.figure(figsize=(x * n_col, y * n_row))                          # Set figure size as a ratio of rows\n",
    "    plt.subplots_adjust(bottom=0, left=.01, right=.99, top=.90, hspace=.35) # Adjust spacing of subplots\n",
    "    for i in range(n_row * n_col):                                         # Adjust spacing of subplots\n",
    "        move=True                  # logical to move on if a random int is found not in the done set()                                       \n",
    "        while random and move:      \n",
    "            r=(np.random.randint(len(images)-(n_row*n_col)-1))          # Create a random integer no greater than the size of the set, and gallery\n",
    "            if r not in done:                                        # if integer has not been used \n",
    "                done.add(r+i)                                       # add to set\n",
    "            move=False          # Optional randomization to explore sets\n",
    "        plt.subplot(n_row, n_col, i + 1)                        # create subplot for each\n",
    "        plt.imshow(images[i+r].reshape((h, w)), cmap=cmap)      # plot images reshaped to 28*28\n",
    "        if indx==True:plt.xlabel('index: '+str(i+r), size=12)   # print index if True\n",
    "        plt.title(titles[i+r], size=size)                       # print label\n",
    "        plt.xticks(())\n",
    "        plt.yticks(())   # remove ticks\n",
    "\n",
    "\n"
   ]
  },
  {
   "cell_type": "markdown",
   "metadata": {},
   "source": [
    "### Using the plot_gallery()  function we can now plot a random gallery, or an individual image or array of images plot_now() function will plot a single digit.\n"
   ]
  },
  {
   "cell_type": "markdown",
   "metadata": {},
   "source": [
    "# Take a look at the colormapping guide\n",
    "\n",
    "http://matplotlib.org/users/colormaps.html"
   ]
  },
  {
   "cell_type": "markdown",
   "metadata": {},
   "source": [
    "# The cmap, cool color scheme more clearly defines the centers and edges of the shapes, as well as blobs.\n",
    "Now that the pictures are more obvious with a more distinguishable color scale it can be dertemined that the centers and edges are more well defined"
   ]
  },
  {
   "cell_type": "code",
   "execution_count": 8,
   "metadata": {
    "scrolled": true
   },
   "outputs": [
    {
     "data": {
      "image/png": "[encoded data removed]",
      "text/plain": [
       "<matplotlib.figure.Figure at 0x10e5220b8>"
      ]
     },
     "metadata": {},
     "output_type": "display_data"
    }
   ],
   "source": [
    "plot_gallery(X, names[y], 28, 28, indx=True, random=True, cmap=plt.cm.cool)"
   ]
  },
  {
   "cell_type": "markdown",
   "metadata": {},
   "source": [
    "# Pick out an image that looks weird  and plot it below\n",
    "\n",
    "Inferno cmap has been able to show some weird features"
   ]
  },
  {
   "cell_type": "code",
   "execution_count": 9,
   "metadata": {},
   "outputs": [
    {
     "data": {
      "image/png": "[encoded data removed]",
      "text/plain": [
       "<matplotlib.figure.Figure at 0x110ce45c0>"
      ]
     },
     "metadata": {},
     "output_type": "display_data"
    }
   ],
   "source": [
    "N=17972\n",
    "plot_now(X[17972], cmap=plt.cm.inferno, indx=False)"
   ]
  },
  {
   "cell_type": "markdown",
   "metadata": {},
   "source": [
    "# Using a mask we can reduce the dimensionality of the data"
   ]
  },
  {
   "cell_type": "code",
   "execution_count": 10,
   "metadata": {
    "collapsed": true
   },
   "outputs": [],
   "source": [
    "# mask the black pixels\n",
    "black = np.ma.masked_where(X <= 230, X)\n",
    "\n",
    "# black = black.compressed()\n",
    "# blacks = black.reshape(42000, 784).astype(np.uint8).ravel()"
   ]
  },
  {
   "cell_type": "markdown",
   "metadata": {},
   "source": [
    "# Now take a closer look at an image of interest recreated from the mask to match the original color.  All that is left is a skelaton of the actual writing.\n",
    "\n",
    "Perhaps these images could be reprocessed into shape data to be trained with"
   ]
  },
  {
   "cell_type": "code",
   "execution_count": 11,
   "metadata": {
    "scrolled": false
   },
   "outputs": [
    {
     "data": {
      "image/png": "[encoded data removed]",
      "text/plain": [
       "<matplotlib.figure.Figure at 0x110eff588>"
      ]
     },
     "metadata": {},
     "output_type": "display_data"
    }
   ],
   "source": [
    "\n",
    "plot_now(X[N], cmap=plt.cm.gray, indx=False, r=N)"
   ]
  },
  {
   "cell_type": "code",
   "execution_count": 12,
   "metadata": {
    "scrolled": true
   },
   "outputs": [
    {
     "data": {
      "image/png": "[encoded data removed]",
      "text/plain": [
       "<matplotlib.figure.Figure at 0x11033ac88>"
      ]
     },
     "metadata": {},
     "output_type": "display_data"
    }
   ],
   "source": [
    "weird = set()  # empty set of strange images\n",
    "N=17972       #\n",
    "plot_now(black[N], cmap=plt.cm.binary, indx=False, r=N)\n",
    "plt.savefig('img/'+str(N)+'.png', transparent=True, bbox_inches='tight', pad_inches=-0.15) # Save image"
   ]
  },
  {
   "cell_type": "markdown",
   "metadata": {},
   "source": [
    "<img src=\"img/17972.png\">"
   ]
  },
  {
   "cell_type": "markdown",
   "metadata": {},
   "source": [
    "# Compared with the original, this digit has become more recognizeable through the masking, at least in making its most distinguishing feature more pronounced."
   ]
  },
  {
   "cell_type": "code",
   "execution_count": 13,
   "metadata": {},
   "outputs": [
    {
     "data": {
      "image/png": "[encoded data removed]",
      "text/plain": [
       "<matplotlib.figure.Figure at 0x1108c2eb8>"
      ]
     },
     "metadata": {},
     "output_type": "display_data"
    }
   ],
   "source": [
    "plot_gallery(black, names[y],  h=28, w=28, n_row=3, x=1.7, y=2.3, n_col=6, \n",
    "                 cmap=plt.cm.binary, random=True, indx=True, r=0, size=16)"
   ]
  },
  {
   "cell_type": "markdown",
   "metadata": {},
   "source": [
    "# Above are random images recreated from the mask at levels of black above 230, as you can see the images have become very simplified, in some cases, over-lossy, but could provide a better training set for the neural nets."
   ]
  },
  {
   "cell_type": "markdown",
   "metadata": {},
   "source": [
    "<a id='final_dataset_description'></a>\n",
    "<a href=\"#top\">Back to Top</a>\n",
    "\n",
    "# Final Dataset Description:\n",
    "\n",
    "We will use a combination of transformed datasets, including the original training and testing sets, the train_test_split sets used in cross-validation, and the PCA transformed dataset which will create n=50 variables.\n",
    "\n"
   ]
  },
  {
   "cell_type": "markdown",
   "metadata": {},
   "source": [
    "<a id='modeling_and_evaluation'></a>\n",
    "<a href=\"#top\">Back to Top</a>\n",
    "# IV.  Modeling and Evaluation\n",
    "\n",
    "The next necessary function for this data set is to determine which of the components are most important. To do this a PCA is performed.\n",
    "\n",
    " We will then use a variety of classification techniques, report on their accuracy, modify the parameters, and iterate this process until we find a stable, reproducable method that achieves high accuracy with relatively low training times.\n",
    " \n",
    " We will use a logistic regression classifier with cross validation using 2 different models, and compare the accuracies, and plot a confusion matrix.\n",
    " We will also train a support vector machine classifier with a 4 different kernels and compare accuracy of each.\n",
    " In addition, both a ball_tree and kd_tree classifier will be used and accuracy reported.\n",
    " \n",
    " Finally, a random forest classifier will be used as a benchmark for future neural nets to be run."
   ]
  },
  {
   "cell_type": "markdown",
   "metadata": {},
   "source": [
    "## 1) Evaluation Metrics\n",
    "\n",
    "Cross validation of the training set will be used to measure the predictive power of each model. For the purpose of digit classification, we will use sklearn's metrics library to score each classification as either true or false.  We will also use a confusion matrix function to identify classes that are being incorrectly predicted.  The goal is 100% percent accuracy in prediction of all digit classes (or reduce the total number of false predictions generated from the model), therefore precision, and other metrics will not be used in this analysis. "
   ]
  },
  {
   "cell_type": "code",
   "execution_count": 14,
   "metadata": {
    "scrolled": true
   },
   "outputs": [
    {
     "name": "stdout",
     "output_type": "stream",
     "text": [
      "Automatically created module for IPython interactive environment\n"
     ]
    }
   ],
   "source": [
    "# Code adapted from \n",
    "# http://scikit-learn.org/stable/_downloads/plot_confusion_matrix.py\n",
    "\n",
    "\n",
    "from datetime import datetime as dt; start = dt.now()\n",
    "print(__doc__)\n",
    "\n",
    "import itertools\n",
    "import numpy as np\n",
    "import matplotlib.pyplot as plt\n",
    "from sklearn import svm, datasets\n",
    "from sklearn.metrics import confusion_matrix\n",
    "\n",
    "# Create confusion matrix function to plot errors in predictions\n",
    "def plot_confusion_matrix(cm, classes,\n",
    "                          normalize=False,\n",
    "                          title='Confusion matrix',\n",
    "                          cmap=plt.cm.Blues):\n",
    "    \"\"\"\n",
    "    This function prints and plots the confusion matrix.\n",
    "    Normalization can be applied by setting `normalize=True`.\n",
    "    \"\"\"\n",
    "    plt.imshow(cm, interpolation='nearest', cmap=cmap)\n",
    "    plt.title(title)\n",
    "    plt.colorbar()\n",
    "    tick_marks = np.arange(len(classes))\n",
    "    plt.xticks(tick_marks, classes, rotation=45)\n",
    "    plt.yticks(tick_marks, classes)\n",
    "\n",
    "    if normalize:\n",
    "        cm = cm.astype('float') / cm.sum(axis=1)[:, np.newaxis]\n",
    "        print(\"Normalized confusion matrix\")\n",
    "    else:\n",
    "        print('Confusion matrix, without normalization')\n",
    "\n",
    "    print(cm)\n",
    "\n",
    "    thresh = cm.max() / 2.\n",
    "    for i, j in itertools.product(range(cm.shape[0]), range(cm.shape[1])):\n",
    "        plt.text(j, i, cm[i, j],\n",
    "                 horizontalalignment=\"center\",\n",
    "                 color=\"white\" if cm[i, j] > thresh else \"black\")\n",
    "\n",
    "    plt.tight_layout()\n",
    "    plt.ylabel('True label')\n",
    "    plt.xlabel('Predicted label')\n"
   ]
  },
  {
   "cell_type": "markdown",
   "metadata": {},
   "source": [
    "## 2) Dividing the data"
   ]
  },
  {
   "cell_type": "code",
   "execution_count": 15,
   "metadata": {
    "scrolled": true
   },
   "outputs": [
    {
     "name": "stdout",
     "output_type": "stream",
     "text": [
      "Importing...\n",
      "splitting...\n",
      "Done!\n"
     ]
    }
   ],
   "source": [
    "import pandas as pd\n",
    "from sklearn.model_selection import train_test_split  \n",
    "# We will try the method train_test_split instead of ShuffleSplit because it was suggested by a number of Kagglers\n",
    "\n",
    "print(\"Importing...\")\n",
    "# create data frame of training and testing sets\n",
    "train = pd.read_csv(\"data/train.csv\")\n",
    "y = train[[0]].values.ravel()                  # Set y equal to label values, ravel strips extra dimensional array \n",
    "X = train.iloc[:,1:].values                    # Set X equal to pixels\n",
    "\n",
    "print(\"splitting...\")                          # distribute 4 sets\n",
    "X_train, X_test, y_train, y_test = train_test_split(X, \n",
    "                    y, test_size=0.5)  # create X and y training and testing sets\n",
    "\n",
    "# Use a 50/50 split with a stratified kfold\n",
    "print(\"Done!\")\n"
   ]
  },
  {
   "cell_type": "markdown",
   "metadata": {},
   "source": [
    "## Stratified k-fold cross-validation \n",
    "will be used for the Support vector machine and logistic regression models to avoid over-fitting by stratifying the resampling across 10 folds, each of the 10 classes should be able to be captured evenly."
   ]
  },
  {
   "cell_type": "code",
   "execution_count": 15,
   "metadata": {
    "collapsed": true
   },
   "outputs": [],
   "source": [
    "# Used guidance per Kaggle, Data Mining Lectures, and Sklearn documentation\n",
    "# http://scikit-learn.org/stable/modules/generated/sklearn.model_selection.StratifiedKFold.html\n",
    "\n",
    "from sklearn.model_selection import StratifiedKFold\n",
    "skf = StratifiedKFold(n_splits=10, shuffle=True, random_state=None)\n",
    "\n",
    "# Choose 10 splits with shuffling to thoroughly randomize the training cases"
   ]
  },
  {
   "cell_type": "markdown",
   "metadata": {},
   "source": [
    "# Classification Task 1\n",
    "\n",
    "classify the digits in the training set"
   ]
  },
  {
   "cell_type": "markdown",
   "metadata": {},
   "source": [
    "## Model 1 - Logistic regression"
   ]
  },
  {
   "cell_type": "code",
   "execution_count": 16,
   "metadata": {},
   "outputs": [
    {
     "name": "stdout",
     "output_type": "stream",
     "text": [
      "Fitting PCA...\n",
      "Done!\n"
     ]
    }
   ],
   "source": [
    "# Let's try reducing dimensionality with PCA to 50 components \n",
    "# as we have seen from the eigenvectors from lab 1, 50 should be sufficient\n",
    "# http://scikit-learn.org/stable/modules/generated/sklearn.decomposition.PCA.html#sklearn.decomposition.PCA.fit_transform\n",
    "# sklearn.decomposition.PCA(n_components=None, copy=True, whiten=False, \n",
    "# svd_solver='auto', tol=0.0, iterated_power='auto', random_state=None)\n",
    "from scipy import stats, integrate\n",
    "import matplotlib.pyplot as plt\n",
    "import seaborn as sns\n",
    "sns.set(color_codes=True)\n",
    "from sklearn.decomposition import PCA\n",
    "\n",
    "print(\"Fitting PCA...\")\n",
    "n_comp = 50\n",
    "\n",
    "# whitening was recommended, as well as arpack solver\n",
    "\n",
    "pca = PCA(n_components=n_comp, whiten=True, svd_solver='arpack')  # Create PCA object\n",
    "\n",
    "# Set fitted PCA object\n",
    "trainer = pca.fit_transform(X_train)  # fit and transform the pca model in one operation\n",
    "tester = pca.fit_transform(X_test)\n",
    "\n",
    "print(\"Done!\")"
   ]
  },
  {
   "cell_type": "code",
   "execution_count": 17,
   "metadata": {
    "collapsed": true
   },
   "outputs": [],
   "source": [
    " def pca_plot(X, n_comp, svd_solver='auto', cmap=plt.cm.viridis, scaler=1.0):   # create a plotter function for PCA\n",
    "\n",
    "    plot_gallery(eigendigits, eigendigit_titles, n_row=int(np.floor(np.sqrt(n_comp))),   # set gallery size to number of PCA to scaler\n",
    "                 n_col=int(np.ceil(np.sqrt(n_comp))), x=(1.7*scaler), y=(2.3*scaler), \n",
    "                 indx=False, random=False, cmap=cmap, size=(16*scaler))"
   ]
  },
  {
   "cell_type": "code",
   "execution_count": 18,
   "metadata": {},
   "outputs": [
    {
     "data": {
      "image/png": "[encoded data removed]",
      "text/plain": [
       "<matplotlib.figure.Figure at 0x2bfafd30>"
      ]
     },
     "metadata": {},
     "output_type": "display_data"
    }
   ],
   "source": [
    "try:\n",
    "    eigendigits = pca.components_.reshape((n_comp, 28, 28))    # set eigenvalues \n",
    "    eigendigit_titles = [\"eigendigit %d\" % i for i in range(eigendigits.shape[0])]  #create the labels\n",
    "    pca_plot(train, 20, scaler=0.5)\n",
    "except IndexError:\n",
    "    pass"
   ]
  },
  {
   "cell_type": "markdown",
   "metadata": {},
   "source": [
    "### The plot above shows the first 20 eigendigits\n",
    "\n",
    "The first 10 eigendigits resemble the following digits: 0, 3, 8, 9\n",
    "After digit 10 they begin to lose form.\n",
    "These will be the most important to train accurately."
   ]
  },
  {
   "cell_type": "code",
   "execution_count": 19,
   "metadata": {},
   "outputs": [
    {
     "name": "stdout",
     "output_type": "stream",
     "text": [
      "83.0 Percent Variance Explained by 50 PCs\n"
     ]
    }
   ],
   "source": [
    "evr = pca.explained_variance_ratio_         # call evr on the PCA object to get the variance explained by each PC\n",
    "print round(sum(evr)*100), \"Percent Variance Explained by\", n_comp, 'PCs'\n",
    "\n",
    "# Create cumulative series to plot\n",
    "cum = 0\n",
    "d = []\n",
    "evr = pca.explained_variance_ratio_\n",
    "\n",
    "for i in range(n_comp):  \n",
    "    cum += evr[i]\n",
    "    d.append(cum)"
   ]
  },
  {
   "cell_type": "markdown",
   "metadata": {},
   "source": [
    "From the output output we  can see that the variance is explained by the top 50 principal components, which is a fairly large percentage."
   ]
  },
  {
   "cell_type": "code",
   "execution_count": null,
   "metadata": {
    "scrolled": true
   },
   "outputs": [
    {
     "data": {
      "image/png": "[encoded data removed]",
      "text/plain": [
       "<matplotlib.figure.Figure at 0x2bf53b70>"
      ]
     },
     "metadata": {},
     "output_type": "display_data"
    }
   ],
   "source": [
    "sns.set(style='darkgrid')\n",
    "plt.plot(d, color='orange', label=True)\n",
    "plt.title('Cumulative Distribution')\n",
    "plt.xlabel('PC')\n",
    "plt.ylabel('percent var explained')\n",
    "plt.show()"
   ]
  },
  {
   "cell_type": "markdown",
   "metadata": {},
   "source": [
    "## Plotting the variance\n",
    "We can see from the distibution chart above that neearly 80% of the variance is explaied by the top 40 and 65% of the variables are explained by the top 20 PCs"
   ]
  },
  {
   "cell_type": "code",
   "execution_count": null,
   "metadata": {},
   "outputs": [
    {
     "name": "stdout",
     "output_type": "stream",
     "text": [
      "Sag Solver... Fitting Logit..."
     ]
    }
   ],
   "source": [
    "# run logistic regression and vary some parameters\n",
    "from sklearn.linear_model import LogisticRegressionCV\n",
    "from sklearn import metrics as mt\n",
    "from datetime import datetime as dt\n",
    "import multiprocessing\n",
    "\n",
    "start = dt.now()\n",
    "# first we create a reusable logisitic regression object\n",
    "#   here we can setup the object with different learning parameters and constants\n",
    "\n",
    "c = LogisticRegressionCV(Cs=10, \n",
    "                              fit_intercept=True, cv=skf, \n",
    "                              n_jobs=-1, penalty='l2', \n",
    "                              solver='sag', tol=0.00001, \n",
    "                              class_weight=None, \n",
    "                              verbose=0, refit=True, \n",
    "                              intercept_scaling=1.0, multi_class='multinomial')\n",
    "print(\"Sag Solver...\"),\n",
    "print(\"Fitting Logit...\"),\n",
    "c.fit(trainer, y_train)\n",
    "\n",
    "print(\"predicting...\")\n",
    "y_hat = c.predict(tester)\n",
    "\n",
    "print 'Accuracy is', mt.accuracy_score(y_test,y_hat)*100, '%'\n",
    "\n",
    "print multiprocessing.cpu_count(), 'CPUs Ran in', dt.now() - start, 'minutes' \n",
    "\n",
    "conf = mt.confusion_matrix(y_test,y_hat)\n",
    "plot_confusion_matrix(conf, [x for x in range(10)],\n",
    "                          normalize=False,\n",
    "                          title='Confusion matrix',\n",
    "                          cmap=plt.cm.cool)"
   ]
  },
  {
   "cell_type": "markdown",
   "metadata": {},
   "source": [
    "## Model 2 - SVC\n",
    "\n",
    "Support Vector Machine Classifier with a radial basis function"
   ]
  },
  {
   "cell_type": "code",
   "execution_count": null,
   "metadata": {
    "collapsed": true
   },
   "outputs": [],
   "source": [
    "from sklearn.svm import SVC\n",
    "from sklearn import metrics as mt\n",
    "\n",
    "# rbf kernel \n",
    "start = dt.now()\n",
    "s = SVC(C=1.0, kernel='rbf', tol=0.00001, cache_size=200, decision_function_shape='ovr')\n",
    "print(\"Training SVM...\"), \n",
    "s.fit(trainer, y_train) \n",
    "\n",
    "print(\"Predicting...\") \n",
    "y_hat = s.predict(tester) \n",
    "print 'Accuracy', mt.accuracy_score(y_test,y_hat)*100, '%'\n",
    "\n",
    "print 'CPU Time: ', dt.now() - start\n",
    "\n",
    "conf = mt.confusion_matrix(y_test,y_hat)\n",
    "\n",
    "conf = mt.confusion_matrix(y_test,y_hat)\n",
    "plot_confusion_matrix(conf, [x for x in range(10)],\n",
    "                      normalize=False,\n",
    "                      title='Confusion matrix',\n",
    "                      cmap=plt.cm.Purples)"
   ]
  },
  {
   "cell_type": "markdown",
   "metadata": {},
   "source": [
    "## Model 3 - KNN using a ball tree algorithm"
   ]
  },
  {
   "cell_type": "code",
   "execution_count": null,
   "metadata": {
    "collapsed": true
   },
   "outputs": [],
   "source": [
    "from sklearn.neighbors import KNeighborsClassifier\n",
    "start = dt.now()\n",
    "\n",
    "knn = KNeighborsClassifier(n_neighbors=5, algorithm='ball_tree', p=2, n_jobs=-1)  # default is n_neighbors=5, stick with it for training\n",
    "print 'Fitting', 'ball_tree'\n",
    "knn.fit(X_train, y_train)\n",
    "y_hat = knn.predict(X_test)\n",
    "print 'ball_tree accuracy:', mt.accuracy_score(y_hat,y_test)\n",
    "print 'CPU Time: ', dt.now() - start\n",
    "\n",
    "conf1 = mt.confusion_matrix(y_test,y_hat)\n",
    "plot_confusion_matrix(conf1, [x for x in range(10)],\n",
    "                  normalize=False,\n",
    "                  title='Confusion matrix',\n",
    "                  cmap=plt.cm.PuRd)\n"
   ]
  },
  {
   "cell_type": "code",
   "execution_count": null,
   "metadata": {
    "collapsed": true
   },
   "outputs": [],
   "source": [
    "# Create plotter for train_test_split to visualize distributions of multiple sets at once\n",
    "%matplotlib inline \n",
    "import numpy as np\n",
    "import matplotlib.pyplot as plt\n",
    "import seaborn as sns; sns.set(color_codes=True)            # reset colors\n",
    "\n",
    "def splitter_display(train, test):                          # split display function\n",
    "    sns.color_palette(\"Blues\")\n",
    "    sns.color_palette(\"husl\", 8)\n",
    "    sns.set_style(\"whitegrid\", {'axes.grid' : False})       # white grid, no lines\n",
    "  \n",
    "    ax = sns.distplot(train, bins=10, hist=True, kde=False)      # class distribution of sets\n",
    "    ax = sns.distplot(test, bins=10, hist=True, kde=False)\n",
    "    ax.set(title=\"Train Set vs. Cross Validation Test Set\", xlabel='Digit Class', ylabel='Frequency in Set', xticks=[0, 1, 2, 3, 4, 5, 6, 7, 8, 9])\n",
    "\n",
    "    plt.show() \n",
    "    \n",
    "splitter_display(y_train, y_test)"
   ]
  },
  {
   "cell_type": "markdown",
   "metadata": {},
   "source": [
    "### The Plot above shows differences in frequencies of the split in colored sections.  If the distribution appears normal, then it is ready for testing."
   ]
  },
  {
   "cell_type": "markdown",
   "metadata": {},
   "source": [
    "### The frequency of the split looks normal, ie. no noticable difference in color distribution above the bars.  \n",
    "\n",
    "Note: This may not need to be run each time, as the train_test_split ensures a balanced class distribution"
   ]
  },
  {
   "cell_type": "code",
   "execution_count": null,
   "metadata": {
    "collapsed": true
   },
   "outputs": [],
   "source": [
    "# from the tutorial: http://www.kaggle.com/c/datasciencebowl/details/tutorial\n",
    "\n",
    "def multiclass_log_loss(y_true, y_pred, eps=1e-15):\n",
    "    \"\"\"Multi class version of Logarithmic Loss metric.\n",
    "    https://www.kaggle.com/wiki/MultiClassLogLoss\n",
    "\n",
    "    Parameters\n",
    "    ----------\n",
    "    y_true : array, shape = [n_samples]\n",
    "            true class, integers in [0, n_classes - 1)\n",
    "    y_pred : array, shape = [n_samples, n_classes]\n",
    "\n",
    "    Returns\n",
    "    -------\n",
    "    loss : float\n",
    "    \"\"\"\n",
    "    predictions = np.clip(y_pred, eps, 1 - eps)\n",
    "\n",
    "    # normalize row sums to 1\n",
    "    predictions /= predictions.sum(axis=1)[:, np.newaxis]\n",
    "\n",
    "    actual = np.zeros(y_pred.shape)\n",
    "    n_samples = actual.shape[0]\n",
    "    actual[np.arange(n_samples), y_true.astype(int)] = 1\n",
    "    vectsum = np.sum(actual * np.log(predictions))\n",
    "    loss = -1.0 / n_samples * vectsum\n",
    "    return loss\n",
    "print(\"multiclass_log_loss() method loaded..\")"
   ]
  },
  {
   "cell_type": "markdown",
   "metadata": {},
   "source": [
    "From the below graph we can see that the accuracy of this PCA is around .83 which is respectable but not perfect. We can also see that the log loss from this method is about 5.6 and fairly consistent between the 2 tests."
   ]
  },
  {
   "cell_type": "code",
   "execution_count": null,
   "metadata": {
    "collapsed": true,
    "scrolled": true
   },
   "outputs": [],
   "source": [
    "from sklearn.decomposition import PCA\n",
    "from sklearn.tree import DecisionTreeClassifier\n",
    "from sklearn import metrics as mt\n",
    "\n",
    "dt_clf = DecisionTreeClassifier()\n",
    "\n",
    "print 'Training Once:'\n",
    "# train the decision tree algorithm\n",
    "dt_clf.fit(X_train,y_train)\n",
    "yhat = dt_clf.predict(X_test)\n",
    "class_probabilities = dt_clf.predict_proba(X_test)\n",
    "\n",
    "print 'Accuracy:', mt.accuracy_score(y_test,yhat)\n",
    "print 'Log Loss:', multiclass_log_loss(y_test, class_probabilities)\n",
    "\n",
    "print 'Training Again:'\n",
    "\n",
    "# train the decision tree algorithm\n",
    "dt_clf.fit(trainer,y_train)\n",
    "yhat = dt_clf.predict(tester)\n",
    "\n",
    "print 'Accuracy:', mt.accuracy_score(y_test,yhat)\n",
    "print 'Log Loss:', multiclass_log_loss(y_test, class_probabilities)"
   ]
  },
  {
   "cell_type": "markdown",
   "metadata": {},
   "source": [
    "# The results above show that PCA reduce the accuracy of a Decision tree dramatically, so it won't be used for randomforest or any other tree."
   ]
  },
  {
   "cell_type": "markdown",
   "metadata": {},
   "source": [
    "<a id='using_pca'></a>\n",
    "<a href=\"#top\">Back to Top</a>\n",
    "# Using PCA\n",
    "\n",
    "From the graph below we do see a higher log loss and lower accuracy when performing this decision tree classifier but that is expected.\n",
    "\n",
    "For the below it was determined that we should only use the Gini criterion, as entropy is too sensitive for this type of image classification"
   ]
  },
  {
   "cell_type": "code",
   "execution_count": null,
   "metadata": {
    "collapsed": true,
    "scrolled": true
   },
   "outputs": [],
   "source": [
    "log_losses = []\n",
    "accuracies = []\n",
    "params = []\n",
    "\n",
    "from matplotlib import pyplot as plt\n",
    "%matplotlib inline\n",
    "\n",
    "# how to make it generalize a bit better? \n",
    "# dt_clf = DecisionTreeClassifier(criterion='gini', splitter='best', max_depth=None, min_samples_split=2, \n",
    "#  min_samples_leaf=1, min_weight_fraction_leaf=0.0,\n",
    "#  max_features=None, random_state=None, max_leaf_nodes=None, \n",
    "#  min_impurity_split=1e-07, class_weight=None, presort=False)\n",
    "# defaults\n",
    "dt_clf = DecisionTreeClassifier(criterion='gini', max_depth=None, \n",
    "                                min_samples_split=1000, min_samples_leaf=100, \n",
    "                                max_features='auto', max_leaf_nodes=None)\n",
    "\n",
    "# # overwrite with prepruning methods\n",
    "# dt_clf = DecisionTreeClassifier(criterion='entropy', max_depth=5, \n",
    "#                                 min_samples_split=1000, min_samples_leaf=1, \n",
    "#                                 max_leaf_nodes=None)\n",
    "\n",
    "\n",
    "print 'Training Once:'\n",
    "\n",
    "# train the decision tree algorithm\n",
    "dt_clf.fit(X_train,y_train)\n",
    "yhat = dt_clf.predict(X_test)\n",
    "class_probabilities = dt_clf.predict_proba(X_test)\n",
    "\n",
    "# get accuracy and log loss of this training\n",
    "acc = mt.accuracy_score(y_test,yhat)\n",
    "ll = multiclass_log_loss(y_test, class_probabilities)\n",
    "print 'Accuracy:', acc\n",
    "print 'Log Loss:', ll\n",
    "\n",
    "# save accuracy, log loss, and params of run\n",
    "log_losses.append(ll)\n",
    "accuracies.append(acc)\n",
    "params.append(dt_clf.get_params())\n",
    "sns.set_style(\"whitegrid\", {'axes.grid' : False})  \n",
    "plt.figure(figsize=(10,4))\n",
    "plt.subplot(1,2,1)\n",
    "plt.bar(range(len(log_losses)),log_losses)\n",
    "plt.title('Log Losses')\n",
    "plt.xlabel('Runs')\n",
    "\n",
    "plt.subplot(1,2,2)\n",
    "plt.bar(range(len(accuracies)),accuracies)\n",
    "plt.title('Accuracies')\n",
    "plt.xlabel('Runs')\n",
    "plt.ylim([0,1])\n",
    "\n",
    "plt.show()"
   ]
  },
  {
   "cell_type": "markdown",
   "metadata": {},
   "source": [
    "## Model 2 -  Multinomial Sag Logit"
   ]
  },
  {
   "cell_type": "code",
   "execution_count": null,
   "metadata": {
    "collapsed": true
   },
   "outputs": [],
   "source": [
    "from datetime import datetime as dt\n",
    "from sklearn.linear_model import LogisticRegressionCV\n",
    "from sklearn import metrics as mt\n",
    "import multiprocessing\n",
    "sns.set_style(\"darkgrid\", {\"axes.facecolor\": \".9\"})\n",
    "\n",
    "# http://scikit-learn.org/stable/modules/generated/sklearn.linear_model.LogisticRegression.html#sklearn.linear_model.LogisticRegression\n",
    "\n",
    "# sklearn.linear_model.LogisticRegressionCV(Cs=10, fit_intercept=True, cv=None, dual=False, \n",
    "# penalty='l2', scoring=None, solver='lbfgs', tol=0.0001, max_iter=100, class_weight=None, \n",
    "# n_jobs=1, verbose=0, refit=True, intercept_scaling=1.0, multi_class='ovr', random_state=None)\n",
    "\n",
    "start = dt.now()\n",
    "\n",
    "# l2 regulariazation only works with 'multinomial' and solvers: ‘sag’, and ‘lbfgs’\n",
    "# using 10 fold cross validation\n",
    "\n",
    "c = LogisticRegressionCV(Cs=10, fit_intercept=True, cv=skf, n_jobs=-1, penalty='l2', \n",
    "                              solver='sag', tol=0.00001, class_weight=None, \n",
    "                              verbose=0, refit=True, intercept_scaling=1.0, multi_class='multinomial')\n",
    "\n",
    "\n",
    "print(\"Sag Solver...\"),\n",
    "print(\"Fitting Logit...\"),\n",
    "c.fit(trainer, y_train)\n",
    "\n",
    "print(\"predicting...\")\n",
    "y_hat = c.predict(tester)\n",
    "\n",
    "print 'Accuracy is', mt.accuracy_score(y_test,y_hat)*100, '%'\n",
    "\n",
    "print multiprocessing.cpu_count(), 'CPUs Ran in', dt.now() - start, 'minutes' \n",
    "\n",
    "conf = mt.confusion_matrix(y_test,y_hat)\n",
    "plot_confusion_matrix(conf, [x for x in range(10)],\n",
    "                          normalize=False,\n",
    "                          title='Confusion matrix',\n",
    "                          cmap=plt.cm.cool)\n",
    "\n",
    "# prob = c.predict_proba(tester)\n",
    "# print 'Probabilities', prob\n",
    "# print 'maximum probability', np.max(prob)\n"
   ]
  },
  {
   "cell_type": "markdown",
   "metadata": {},
   "source": [
    "# Predictive Probablities were not noted, as we are more focused on confusion amongst classifications, and not the predictive power of any one of the classes.\n",
    "The plot above shows high confusion with 1, 2 and 7, and is under predicting 5 and 9.  Class weights may improve accuracy "
   ]
  },
  {
   "cell_type": "markdown",
   "metadata": {},
   "source": [
    "# Multinomial lbfgs logit"
   ]
  },
  {
   "cell_type": "code",
   "execution_count": null,
   "metadata": {
    "collapsed": true
   },
   "outputs": [],
   "source": [
    "from sklearn.linear_model import LogisticRegression, LogisticRegressionCV\n",
    "import numpy as np\n",
    "from sklearn import metrics as mt\n",
    "\n",
    "# Will try lbfgs\n",
    "start = dt.now()\n",
    "\n",
    "# http://scikit-learn.org/stable/modules/generated/sklearn.linear_model.LogisticRegression.html#sklearn.linear_model.LogisticRegression\n",
    "\n",
    "c = LogisticRegressionCV(solver='lbfgs', cv=skf, penalty='l2', \n",
    "        multi_class='multinomial', tol=0.00001)\n",
    "\n",
    "\n",
    "print(\"lbfgs Solver...\"),\n",
    "print(\"Fitting Logit...\"),\n",
    "c.fit(trainer, y_train)\n",
    "\n",
    "print(\"predicting...\")\n",
    "y_hat = c.predict(tester)\n",
    "\n",
    "print 'Accuracy', mt.accuracy_score(y_test,y_hat)*100, '%'\n",
    "\n",
    "print 'CPU Time: ', dt.now() - start \n",
    "\n",
    "conf = mt.confusion_matrix(y_test,y_hat)\n",
    "plot_confusion_matrix(conf, [x for x in range(10)],\n",
    "                          normalize=False,\n",
    "                          title='Confusion matrix',\n",
    "                          cmap=plt.cm.BuPu)\n",
    "\n",
    "# prob = c.predict_proba(tester)\n",
    "# print 'Probabilities', prob\n",
    "# print 'maximum probability', np.max(prob)"
   ]
  },
  {
   "cell_type": "markdown",
   "metadata": {
    "collapsed": true
   },
   "source": [
    "When the tests above were being performed it was realized that the data was possibly consistent of too many variables, as it took quite some time to perform the log regrssion and other features. With that it was determined that a PCA for dimension reduction would be of great use to this project.\n",
    "\n",
    "The code below is pulled from a Kaggler, and provides functions for a PCA and logistic regression model that is over 90% accurate."
   ]
  },
  {
   "cell_type": "markdown",
   "metadata": {},
   "source": [
    "Now it is time to plot the weights to show where the numbers might lie in determination of which attributes are most important when predicting. As stated presviouly this data set is a little odd in determination of variable selection however we can see that the pixels in the middle of the data set, show to a much greater extent where the possible future values may lie."
   ]
  },
  {
   "cell_type": "markdown",
   "metadata": {},
   "source": [
    "<a id='support_vector_machine'></a>\n",
    "<a href=\"#top\">Back to Top</a>\n",
    "# Support Vector Machines (SVM)\n"
   ]
  },
  {
   "cell_type": "markdown",
   "metadata": {},
   "source": [
    "\n",
    "# Polynomial Kernel"
   ]
  },
  {
   "cell_type": "code",
   "execution_count": null,
   "metadata": {
    "collapsed": true
   },
   "outputs": [],
   "source": [
    "# Reuse X and y from PCA from above\n",
    "from datetime import datetime as dt\n",
    "\n",
    "from sklearn.svm import SVC\n",
    "from sklearn import metrics as mt\n",
    "\n",
    "# (C=1.0, kernel='rbf', degree=3, gamma='auto', coef0=0.0, shrinking=True, probability=False, tol=0.001, cache_size=200, \n",
    "# class_weight=None, verbose=False, max_iter=-1, decision_function_shape=None, random_state=None)\n",
    "\n",
    "# adding max_iter or balancing slows things down and hurts accuracy, so leave it at defaults, and\n",
    "\n",
    "\n",
    "start = dt.now()\n",
    "s = SVC(C=0.5, kernel='poly', degree=3, tol=0.00001)\n",
    "print(\"Training SVM...\"), \n",
    "s.fit(trainer, y_train)                              # train using PCA data\n",
    "\n",
    "print(\"Predicting...\") \n",
    "y_hat = s.predict(tester)                            # set the predictions for scoring\n",
    "\n",
    "print 'Accuracy', mt.accuracy_score(y_test,y_hat)*100, '%'\n",
    "time = dt.now() - start\n",
    "print 'CPU Time: ', time\n",
    "\n",
    "\n",
    " \n",
    "conf = mt.confusion_matrix(y_test,y_hat)           # Create Confusion matrix\n",
    "# prob = c.predict_proba(tester)\n",
    "# print 'Probabilities', prob   \n",
    "# Compute confusion matrix\n",
    "np.set_printoptions(precision=2)\n",
    "\n",
    "# Plot non-normalized confusion matrix\n",
    "conf = mt.confusion_matrix(y_test,y_hat)\n",
    "plot_confusion_matrix(conf, [x for x in range(10)],\n",
    "                          normalize=False,\n",
    "                          title='Confusion matrix',\n",
    "                          cmap=plt.cm.Greens)\n",
    "\n",
    "# # Plot normalized confusion matrix\n",
    "# plt.figure()\n",
    "# plot_confusion_matrix(conf, classes=class_names, normalize=True,\n",
    "#                       title='Normalized confusion matrix')\n",
    "\n",
    "plt.show()\n"
   ]
  },
  {
   "cell_type": "markdown",
   "metadata": {},
   "source": [
    "# The CM above shows confusion with 5-0 and underpredicting 5, 4-9, 1-9, and 7-9.  \n",
    "\n",
    "These classes will have to be examined more closely, and potentially weighted if SVM is to be used."
   ]
  },
  {
   "cell_type": "markdown",
   "metadata": {},
   "source": [
    "<a id='linear_kernel'></a>\n",
    "<a href=\"#top\">Back to Top</a>\n",
    "# Linear Kernel\n"
   ]
  },
  {
   "cell_type": "code",
   "execution_count": null,
   "metadata": {
    "collapsed": true
   },
   "outputs": [],
   "source": [
    "# Linear Kernel with tolerance upped by order of magnitude\n",
    "from datetime import datetime as dt\n",
    "\n",
    "from sklearn.svm import SVC\n",
    "from sklearn import metrics as mt\n",
    "\n",
    "start = dt.now()\n",
    "weights1 = {0:.05,1:.15, 2:0.05, 3:0.125, 4:0.125, 5:0.1, 6:0.1, 7:0.15, 8:0.1, 9:0.05}\n",
    "s = SVC(C=0.5, kernel='linear', tol=0.00001)\n",
    "print(\"Training SVM...\"), \n",
    "s.fit(trainer, y_train) \n",
    "\n",
    "print(\"Predicting...\") \n",
    "y_hat = s.predict(tester) \n",
    "\n",
    "print 'Accuracy', mt.accuracy_score(y_test,y_hat)*100, '%'\n",
    "\n",
    "print 'CPU Time: ', dt.now() - start\n",
    "\n",
    "conf = mt.confusion_matrix(y_test,y_hat)\n",
    "# prob = c.predict_proba(tester)\n",
    "# print 'Probabilities', prob \n",
    "\n",
    "conf = mt.confusion_matrix(y_test,y_hat)\n",
    "plot_confusion_matrix(conf, [x for x in range(10)],\n",
    "                          normalize=False,\n",
    "                          title='Confusion matrix',\n",
    "                          cmap=plt.cm.Oranges)\n"
   ]
  },
  {
   "cell_type": "markdown",
   "metadata": {},
   "source": [
    "## The linear kernel shows underclassifying 9 and 5 with a confusion on 4-9.  Similar issues are being encountered with 9 and 4, with 9 now underpredicted.\n",
    "\n"
   ]
  },
  {
   "cell_type": "markdown",
   "metadata": {},
   "source": [
    "<a id='rbf'></a>\n",
    "<a href=\"#top\">Back to Top</a>\n",
    "# Radial Basis Function Kernel"
   ]
  },
  {
   "cell_type": "markdown",
   "metadata": {},
   "source": [
    "<a id='sigmoid'></a>\n",
    "<a href=\"#top\">Back to Top</a>\n",
    "# Sigmoid Kernel\n"
   ]
  },
  {
   "cell_type": "code",
   "execution_count": null,
   "metadata": {
    "collapsed": true
   },
   "outputs": [],
   "source": [
    "# sigmoid kernel \n",
    "start = dt.now()\n",
    "s = SVC(C=0.5, kernel='sigmoid', probability=True, tol=0.00001)\n",
    "print(\"Training SVM...\"), \n",
    "s.fit(trainer, y_train) \n",
    "\n",
    "print(\"Predicting...\") \n",
    "y_hat = s.predict(tester) \n",
    "print 'Accuracy', mt.accuracy_score(y_test,y_hat)*100, '%'\n",
    "\n",
    "print 'CPU Time: ', dt.now() - start\n",
    "\n",
    "conf = mt.confusion_matrix(y_test,y_hat)\n",
    "# prob = c.predict_proba(tester)\n",
    "# print 'Probabilities', prob \n",
    "conf = mt.confusion_matrix(y_test,y_hat)\n",
    "plot_confusion_matrix(conf, [x for x in range(10)],\n",
    "                      normalize=False,\n",
    "                      title='Confusion matrix',\n",
    "                      cmap=plt.cm.YlGn)"
   ]
  },
  {
   "cell_type": "markdown",
   "metadata": {},
   "source": [
    "# SVM with the 'rbf' solver outperforms the linear and polynomial, and sigmoid as well as the logit due to its multidimensional flexibility, and since the digits are drawn with distances from the center of the image, radial distance is used for modeling.\n",
    "\n",
    "Adjusting much of the tolerance and penalty parameters had little effect on the accuracies."
   ]
  },
  {
   "cell_type": "markdown",
   "metadata": {},
   "source": [
    "# Each of these SVM and Logit classifiers have very similar  accuracy, but are highly unstable due to PCA.  Though, without PCA, the original dimensionality of the image data is too high for these methods in the current implementation.  \n"
   ]
  },
  {
   "cell_type": "code",
   "execution_count": null,
   "metadata": {
    "collapsed": true
   },
   "outputs": [],
   "source": [
    "import numpy as np\n",
    "import matplotlib.pyplot as plt\n",
    "from sklearn import svm\n",
    "from sklearn.linear_model.stochastic_gradient import SGDClassifier\n",
    "#from sklearn.linear_model import SGDClassifier\n",
    "\n",
    "# we create 1000 separable points\n",
    "rng = np.random.RandomState(0)\n",
    "n_samples_1 = 1000\n",
    "n_samples_2 = 100\n",
    "X = np.r_[1.5 * rng.randn(n_samples_1, 2),\n",
    "          0.5 * rng.randn(n_samples_2, 2) + [2, 2]]\n",
    "y = [0] * (n_samples_1) + [1] * (n_samples_2)\n",
    "\n",
    "# fit the model and get the separating hyperplane\n",
    "clf = SGDClassifier(n_iter=100, alpha=0.01)\n",
    "clf.fit(X, y)\n",
    "\n",
    "w = clf.coef_[0]\n",
    "a = -w[0] / w[1]\n",
    "xx = np.linspace(-5, 5)\n",
    "yy = a * xx - clf.intercept_[0] / w[1]\n",
    "\n",
    "\n",
    "# get the separating hyperplane using weighted classes\n",
    "wclf = svm.SVC(kernel='linear', class_weight={1: 10})\n",
    "wclf.fit(X, y)\n",
    "\n",
    "ww = wclf.coef_[0]\n",
    "wa = -ww[0] / ww[1]\n",
    "wyy = wa * xx - wclf.intercept_[0] / ww[1]\n",
    "\n",
    "# plot separating hyperplanes and samples\n",
    "h0 = plt.plot(xx, yy, 'k-', label='no weights')\n",
    "h1 = plt.plot(xx, wyy, 'k--', label='weights')\n",
    "plt.scatter(X[:, 0], X[:, 1], c=y, cmap=plt.cm.Paired)\n",
    "plt.legend()\n",
    "\n",
    "plt.axis('tight')\n",
    "plt.show()"
   ]
  },
  {
   "cell_type": "markdown",
   "metadata": {},
   "source": [
    "# The code above plots the coefficients of a Stochastic Gradient Decent Classifier, showing the value of using class weights versus not using weights.\n",
    "\n",
    "This information may be used to revisit SVM with weighted classes in the future."
   ]
  },
  {
   "cell_type": "markdown",
   "metadata": {},
   "source": [
    "# Random Forest Benchmark\n",
    "\n",
    "The code below is used as a starting point for future implementations of neural nets.  Currently, our team does not possess a Linux machine with a GPU card.  Once acquired, packages lasagne, and tensorflow will be used to train a highly accurate model able of achieving over 99%. "
   ]
  },
  {
   "cell_type": "code",
   "execution_count": null,
   "metadata": {
    "collapsed": true
   },
   "outputs": [],
   "source": [
    "# Code adapted from https://www.kaggle.com/c/digit-recognizer/forums/t/2299/getting-started-python-sample-code-random-forest\n",
    "\n",
    "# from sklearn.ensemble import RandomForestClassifier\n",
    "# import numpy as np\n",
    "# import pandas as pd\n",
    "\n",
    "# # create the training & test sets, skipping the header row with [1:]\n",
    "# dataset = pd.read_csv(\"data/train.csv\")\n",
    "# target = dataset[[0]].values.ravel()\n",
    "# train = dataset.iloc[:,1:].values\n",
    "# test = pd.read_csv(\"data/test.csv\").values\n",
    "\n",
    "# # create and train the random forest\n",
    "# # multi-core CPUs can use: rf = RandomForestClassifier(n_estimators=100, n_jobs=2)\n",
    "# rf = RandomForestClassifier(n_estimators=100, n_jobs=2)\n",
    "# print(\"Fitting...\")\n",
    "# rf.fit(train, target)\n",
    "# pred = rf.predict(test)\n",
    "\n",
    "# np.savetxt('data/submission_rand_forest.csv', np.c_[range(1,len(test)+1),pred], \n",
    "#            delimiter=',', header = 'ImageId,Label', comments = '', fmt='%d')\n",
    "\n",
    "# print 'CPU Time: ', dt.now() - start\n",
    "# print(\"Benchmark Created!\")"
   ]
  },
  {
   "cell_type": "markdown",
   "metadata": {},
   "source": [
    "# Reloading Data"
   ]
  },
  {
   "cell_type": "code",
   "execution_count": null,
   "metadata": {
    "collapsed": true
   },
   "outputs": [],
   "source": [
    "\n",
    "import pandas as pd\n",
    "import numpy as np\n",
    "from sklearn.model_selection import train_test_split  # We will try the method train_test_split instead of ShuffleSplit\n",
    "\n",
    "print(\"Importing...\")\n",
    "# create data frame of training and testing sets\n",
    "trains = pd.read_csv(\"data/train.csv\")\n",
    "y = trains[[0]].values.ravel()\n",
    "X = trains.iloc[:,1:].values\n",
    "\n",
    "print(\"splitting...\")\n",
    "X_train, X_test, y_train, y_test = train_test_split(X, y, test_size=0.5)  # create x and y training set\n",
    "\n",
    "print(\"Done!\")\n",
    "\n",
    "from sklearn.decomposition import PCA\n",
    "\n",
    "print(\"Fitting PCA...\")\n",
    "n_comp = 50\n",
    "pca = PCA(n_components=n_comp, whiten=True, svd_solver='arpack')\n",
    "\n",
    "# Set fitted PCA object\n",
    "trainer = pca.fit_transform(X_train)\n",
    "tester = pca.fit_transform(X_test)\n",
    "print(\"Done!\")"
   ]
  },
  {
   "cell_type": "markdown",
   "metadata": {},
   "source": [
    "<a id='random_forest'></a>\n",
    "<a href=\"#top\">Back to Top</a>\n",
    "# Random Forest"
   ]
  },
  {
   "cell_type": "code",
   "execution_count": null,
   "metadata": {
    "collapsed": true,
    "scrolled": true
   },
   "outputs": [],
   "source": [
    "from sklearn.ensemble import RandomForestClassifier \n",
    "from sklearn.model_selection import train_test_split\n",
    "from sklearn import metrics as mt\n",
    "from datetime import datetime as dt\n",
    "\n",
    "start=dt.now()\n",
    "rf = RandomForestClassifier(n_estimators=100, n_jobs=2)  # 100 estimators has seen the most success\n",
    "print(\"Fitting...\")\n",
    "%time rf.fit(X_train, y_train)\n",
    "\n",
    "y_hat = rf.predict(X_test)\n",
    "conf = mt.confusion_matrix(y_test,y_hat)\n",
    "print 'Accuracy', mt.accuracy_score(y_test,y_hat)*100, '%'\n",
    "plot_confusion_matrix(conf, [x for x in range(10)],\n",
    "                  normalize=False,\n",
    "                  title='Confusion matrix',\n",
    "                  cmap=plt.cm.RdPu)"
   ]
  },
  {
   "cell_type": "markdown",
   "metadata": {},
   "source": [
    "# By popular demand, the random forest is the best performer with ~96% accuracy and very little training time.\n",
    "\n",
    "Decision trees are the most powerful models for this data because they are the best classifiers.  Random forest is the best among the D trees because it controls overfitting and uses bootstrap averaging to improve its accuracy.  The Convolutional Neural Net: https://www.kaggle.com/kobakhit/digit-recognizer/digit-recognizer-in-python-using-cnn, and tensorflow: https://www.kaggle.com/kakauandme/digit-recognizer/tensorflow-deep-nnwill use this benchmark to achieve 98 and 99% accuracy.  We will build on the work of these other Kagglers to improve on their accuracies by adjusting parameters and performing some preprocessing in future installments of the MNIST handwritten digits exploration."
   ]
  },
  {
   "cell_type": "markdown",
   "metadata": {},
   "source": [
    "<a id='ball_tree'></a>\n",
    "<a href=\"#top\">Back to Top</a>\n",
    "# Ball Tree"
   ]
  },
  {
   "cell_type": "code",
   "execution_count": null,
   "metadata": {
    "collapsed": true
   },
   "outputs": [],
   "source": [
    "from sklearn.neighbors import KNeighborsClassifier\n",
    "start = dt.now()\n",
    "\n",
    "knn = KNeighborsClassifier(n_neighbors=5, algorithm='ball_tree', p=2, n_jobs=-1)  # default is n_neighbors=5, stick with it for training\n",
    "print 'Fitting', 'ball_tree'\n",
    "knn.fit(X_train, y_train)\n",
    "y_hat = knn.predict(X_test)\n",
    "print 'ball_tree accuracy:', mt.accuracy_score(y_hat,y_test)\n",
    "print 'CPU Time: ', dt.now() - start\n"
   ]
  },
  {
   "cell_type": "code",
   "execution_count": null,
   "metadata": {
    "collapsed": true,
    "scrolled": true
   },
   "outputs": [],
   "source": [
    "conf1 = mt.confusion_matrix(y_test,y_hat)\n",
    "plot_confusion_matrix(conf1, [x for x in range(10)],\n",
    "                  normalize=False,\n",
    "                  title='Confusion matrix',\n",
    "                  cmap=plt.cm.PuRd)"
   ]
  },
  {
   "cell_type": "markdown",
   "metadata": {},
   "source": [
    "<a id='kd_tree'></a>\n",
    "<a href=\"#top\">Back to Top</a>\n",
    "# KD Tree"
   ]
  },
  {
   "cell_type": "code",
   "execution_count": null,
   "metadata": {
    "collapsed": true
   },
   "outputs": [],
   "source": [
    "from sklearn.neighbors import KNeighborsClassifier\n",
    "start = dt.now()\n",
    "knn = KNeighborsClassifier(n_neighbors=5, algorithm='kd_tree', n_jobs=-1)  # p=2 euclidean vs p=1 manhattan\n",
    "print 'Fitting kd_tree'                                                         # n_neighbors=5 by default, doubling improved accuracy\n",
    "%time knn.fit(X_train, y_train)\n",
    "y_hat = knn.predict(X_test)\n",
    "print 'kdtree accuracy:', mt.accuracy_score(y_hat,y_test)\n",
    "print 'CPU Time: ', dt.now() - start\n",
    "\n"
   ]
  },
  {
   "cell_type": "code",
   "execution_count": null,
   "metadata": {
    "collapsed": true
   },
   "outputs": [],
   "source": [
    "conf2 = mt.confusion_matrix(y_test,y_hat)\n",
    "plot_confusion_matrix(conf2, [x for x in range(10)],\n",
    "                  normalize=False,\n",
    "                  title='Confusion matrix',\n",
    "                  cmap=plt.cm.BuGn)"
   ]
  },
  {
   "cell_type": "markdown",
   "metadata": {},
   "source": [
    "# The KD Tree outperformed the Ball tree due to its multdimensional space partitioning scheme. Although, they did come to similar accuracies around 96%, the ball tree was significantly quicker. \n",
    "\n",
    "This image data is highly dimensional, so the splitting hyperplane that the ball uses more clearly separates the classes of images in the nested hypersphere of the ball."
   ]
  },
  {
   "cell_type": "markdown",
   "metadata": {},
   "source": [
    "<a id='deployment'></a>\n",
    "<a href=\"#top\">Back to Top</a>\n",
    "# Deploy\n",
    "\n",
    " Deploying a more accurate model for digit recognization will become more important as the use of handwriting declines, the shape and appearance of digits in the wild could become highly variable.  By training more versatile models, more and more interpretations can be indexed, improving the accuracy of computer vision for digitizing everything from cashier's checks, to post-it notes."
   ]
  },
  {
   "cell_type": "markdown",
   "metadata": {},
   "source": [
    "# Conclusion\n",
    "\n",
    "By training a highly accurate model using random forest combined with a convolutional neural net, or a tensorflow neural net will result in highly accurate models with accuracy of predicting the test set over 99%.  We will pursue these methods, as soon as the technology is acquired.  \n",
    "\n",
    "The goal is ~100% accuracy in predicting a handwritten digit.  Without this level of accuracy, technology like cashing a check on your smart phone would not be possible.  As training times will likely converge, any small improvements in accuracy of a model can come at high training cost. "
   ]
  }
 ],
 "metadata": {
  "anaconda-cloud": {},
  "kernelspec": {
   "display_name": "Python 3",
   "language": "python",
   "name": "python3"
  },
  "language_info": {
   "codemirror_mode": {
    "name": "ipython",
    "version": 3
   },
   "file_extension": ".py",
   "mimetype": "text/x-python",
   "name": "python",
   "nbconvert_exporter": "python",
   "pygments_lexer": "ipython3",
   "version": "3.6.1"
  }
 },
 "nbformat": 4,
 "nbformat_minor": 1
}
